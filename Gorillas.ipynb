{
 "cells": [
  {
   "cell_type": "code",
   "execution_count": 350,
   "id": "46fb19f2",
   "metadata": {},
   "outputs": [
    {
     "name": "stderr",
     "output_type": "stream",
     "text": [
      "/var/folders/yd/7fn380h1507crytk9ytqnc440000gn/T/ipykernel_68823/1801911778.py:10: SettingWithCopyWarning: \n",
      "A value is trying to be set on a copy of a slice from a DataFrame\n",
      "\n",
      "See the caveats in the documentation: https://pandas.pydata.org/pandas-docs/stable/user_guide/indexing.html#returning-a-view-versus-a-copy\n",
      "  rate[\"aq_max_kwh\"].loc[np.isnan(rate[\"aq_max_kwh\"])] = np.inf\n"
     ]
    }
   ],
   "source": [
    "import pandas as pd\n",
    "import numpy as np\n",
    "import warnings\n",
    "\n",
    "m_lt = pd.read_excel('gorilla_test_data.xlsx', sheet_name='meter_list')\n",
    "ft = pd.read_excel('gorilla_test_data.xlsx', sheet_name='forecast_table')\n",
    "rate = pd.read_excel('gorilla_test_data.xlsx', sheet_name='rate_table')\n",
    "\n",
    "\n",
    "rate[\"aq_max_kwh\"].loc[np.isnan(rate[\"aq_max_kwh\"])] = np.inf\n",
    "# def daily_cost_p(date, meter):\n",
    "#     return rate, forecast"
   ]
  },
  {
   "cell_type": "code",
   "execution_count": 4,
   "id": "39aede7c",
   "metadata": {},
   "outputs": [
    {
     "data": {
      "text/html": [
       "<div>\n",
       "<style scoped>\n",
       "    .dataframe tbody tr th:only-of-type {\n",
       "        vertical-align: middle;\n",
       "    }\n",
       "\n",
       "    .dataframe tbody tr th {\n",
       "        vertical-align: top;\n",
       "    }\n",
       "\n",
       "    .dataframe thead th {\n",
       "        text-align: right;\n",
       "    }\n",
       "</style>\n",
       "<table border=\"1\" class=\"dataframe\">\n",
       "  <thead>\n",
       "    <tr style=\"text-align: right;\">\n",
       "      <th></th>\n",
       "      <th>meter_id</th>\n",
       "      <th>aq_kwh</th>\n",
       "      <th>exit_zone</th>\n",
       "    </tr>\n",
       "  </thead>\n",
       "  <tbody>\n",
       "    <tr>\n",
       "      <th>0</th>\n",
       "      <td>14676236</td>\n",
       "      <td>28978</td>\n",
       "      <td>EA1</td>\n",
       "    </tr>\n",
       "    <tr>\n",
       "      <th>1</th>\n",
       "      <td>34509937</td>\n",
       "      <td>78324</td>\n",
       "      <td>SO1</td>\n",
       "    </tr>\n",
       "    <tr>\n",
       "      <th>2</th>\n",
       "      <td>50264822</td>\n",
       "      <td>265667</td>\n",
       "      <td>NT1</td>\n",
       "    </tr>\n",
       "    <tr>\n",
       "      <th>3</th>\n",
       "      <td>88357331</td>\n",
       "      <td>484399</td>\n",
       "      <td>SE2</td>\n",
       "    </tr>\n",
       "  </tbody>\n",
       "</table>\n",
       "</div>"
      ],
      "text/plain": [
       "   meter_id  aq_kwh exit_zone\n",
       "0  14676236   28978       EA1\n",
       "1  34509937   78324       SO1\n",
       "2  50264822  265667       NT1\n",
       "3  88357331  484399       SE2"
      ]
     },
     "execution_count": 4,
     "metadata": {},
     "output_type": "execute_result"
    }
   ],
   "source": []
  },
  {
   "cell_type": "markdown",
   "id": "8eeafba0",
   "metadata": {},
   "source": [
    "ft"
   ]
  },
  {
   "cell_type": "code",
   "execution_count": 97,
   "id": "ca24a520",
   "metadata": {},
   "outputs": [
    {
     "name": "stdout",
     "output_type": "stream",
     "text": [
      "0    14676236\n",
      "1    34509937\n",
      "2    50264822\n",
      "3    88357331\n",
      "Name: meter_id, dtype: int64\n",
      "1    SO1\n",
      "Name: exit_zone, dtype: object\n"
     ]
    }
   ],
   "source": [
    "meters = m_lt['meter_id']\n",
    "print(meters)\n",
    "exit_zone = m_lt['exit_zone'][m_lt['meter_id'] == m_lt['meter_id'][1]]\n",
    "print(exit_zone)\n",
    "print('{}'.format(rate['date']))"
   ]
  },
  {
   "cell_type": "code",
   "execution_count": 21,
   "id": "a8e7ef88",
   "metadata": {},
   "outputs": [
    {
     "name": "stdout",
     "output_type": "stream",
     "text": [
      "0      2020-04-01\n",
      "1      2020-04-01\n",
      "2      2020-04-01\n",
      "3      2020-04-01\n",
      "4      2020-04-01\n",
      "          ...    \n",
      "1135   2024-10-01\n",
      "1136   2024-10-01\n",
      "1137   2024-10-01\n",
      "1138   2024-10-01\n",
      "1139   2024-10-01\n",
      "Name: date, Length: 1140, dtype: datetime64[ns]\n"
     ]
    }
   ],
   "source": []
  },
  {
   "cell_type": "code",
   "execution_count": 91,
   "id": "44be3382",
   "metadata": {
    "scrolled": true
   },
   "outputs": [
    {
     "name": "stdout",
     "output_type": "stream",
     "text": [
      "0    2020\n",
      "1    2020\n",
      "Name: 0, dtype: int64\n",
      "<class 'numpy.int64'>\n",
      "84\n"
     ]
    }
   ],
   "source": []
  },
  {
   "cell_type": "code",
   "execution_count": 119,
   "id": "cdb74118",
   "metadata": {},
   "outputs": [
    {
     "data": {
      "text/plain": [
       "0      2020-04-01\n",
       "1      2020-04-01\n",
       "2      2020-04-01\n",
       "3      2020-04-01\n",
       "4      2020-04-01\n",
       "          ...    \n",
       "1135   2024-10-01\n",
       "1136   2024-10-01\n",
       "1137   2024-10-01\n",
       "1138   2024-10-01\n",
       "1139   2024-10-01\n",
       "Name: date, Length: 1140, dtype: datetime64[ns]"
      ]
     },
     "execution_count": 119,
     "metadata": {},
     "output_type": "execute_result"
    }
   ],
   "source": [
    "\n"
   ]
  },
  {
   "cell_type": "code",
   "execution_count": 321,
   "id": "5b6ddd4f",
   "metadata": {},
   "outputs": [
    {
     "data": {
      "text/html": [
       "<div>\n",
       "<style scoped>\n",
       "    .dataframe tbody tr th:only-of-type {\n",
       "        vertical-align: middle;\n",
       "    }\n",
       "\n",
       "    .dataframe tbody tr th {\n",
       "        vertical-align: top;\n",
       "    }\n",
       "\n",
       "    .dataframe thead th {\n",
       "        text-align: right;\n",
       "    }\n",
       "</style>\n",
       "<table border=\"1\" class=\"dataframe\">\n",
       "  <thead>\n",
       "    <tr style=\"text-align: right;\">\n",
       "      <th></th>\n",
       "      <th>date</th>\n",
       "      <th>exit_zone</th>\n",
       "      <th>aq_min_kwh</th>\n",
       "      <th>aq_max_kwh</th>\n",
       "      <th>rate_p_per_kwh</th>\n",
       "    </tr>\n",
       "  </thead>\n",
       "  <tbody>\n",
       "    <tr>\n",
       "      <th>0</th>\n",
       "      <td>2020-04-01</td>\n",
       "      <td>EA1</td>\n",
       "      <td>0</td>\n",
       "      <td>73200.0</td>\n",
       "      <td>0.2652</td>\n",
       "    </tr>\n",
       "    <tr>\n",
       "      <th>1</th>\n",
       "      <td>2020-04-01</td>\n",
       "      <td>EA1</td>\n",
       "      <td>73200</td>\n",
       "      <td>732000.0</td>\n",
       "      <td>0.1980</td>\n",
       "    </tr>\n",
       "    <tr>\n",
       "      <th>2</th>\n",
       "      <td>2020-04-01</td>\n",
       "      <td>EA1</td>\n",
       "      <td>732000</td>\n",
       "      <td>NaN</td>\n",
       "      <td>0.2875</td>\n",
       "    </tr>\n",
       "    <tr>\n",
       "      <th>3</th>\n",
       "      <td>2020-04-01</td>\n",
       "      <td>EA2</td>\n",
       "      <td>0</td>\n",
       "      <td>73200.0</td>\n",
       "      <td>0.2970</td>\n",
       "    </tr>\n",
       "    <tr>\n",
       "      <th>4</th>\n",
       "      <td>2020-04-01</td>\n",
       "      <td>EA2</td>\n",
       "      <td>73200</td>\n",
       "      <td>732000.0</td>\n",
       "      <td>0.1524</td>\n",
       "    </tr>\n",
       "    <tr>\n",
       "      <th>...</th>\n",
       "      <td>...</td>\n",
       "      <td>...</td>\n",
       "      <td>...</td>\n",
       "      <td>...</td>\n",
       "      <td>...</td>\n",
       "    </tr>\n",
       "    <tr>\n",
       "      <th>1135</th>\n",
       "      <td>2024-10-01</td>\n",
       "      <td>WM2</td>\n",
       "      <td>73200</td>\n",
       "      <td>732000.0</td>\n",
       "      <td>0.4537</td>\n",
       "    </tr>\n",
       "    <tr>\n",
       "      <th>1136</th>\n",
       "      <td>2024-10-01</td>\n",
       "      <td>WM2</td>\n",
       "      <td>732000</td>\n",
       "      <td>NaN</td>\n",
       "      <td>0.7534</td>\n",
       "    </tr>\n",
       "    <tr>\n",
       "      <th>1137</th>\n",
       "      <td>2024-10-01</td>\n",
       "      <td>WM3</td>\n",
       "      <td>0</td>\n",
       "      <td>73200.0</td>\n",
       "      <td>0.7263</td>\n",
       "    </tr>\n",
       "    <tr>\n",
       "      <th>1138</th>\n",
       "      <td>2024-10-01</td>\n",
       "      <td>WM3</td>\n",
       "      <td>73200</td>\n",
       "      <td>732000.0</td>\n",
       "      <td>0.6109</td>\n",
       "    </tr>\n",
       "    <tr>\n",
       "      <th>1139</th>\n",
       "      <td>2024-10-01</td>\n",
       "      <td>WM3</td>\n",
       "      <td>732000</td>\n",
       "      <td>NaN</td>\n",
       "      <td>0.4928</td>\n",
       "    </tr>\n",
       "  </tbody>\n",
       "</table>\n",
       "<p>1140 rows × 5 columns</p>\n",
       "</div>"
      ],
      "text/plain": [
       "           date exit_zone  aq_min_kwh  aq_max_kwh  rate_p_per_kwh\n",
       "0    2020-04-01       EA1           0     73200.0          0.2652\n",
       "1    2020-04-01       EA1       73200    732000.0          0.1980\n",
       "2    2020-04-01       EA1      732000         NaN          0.2875\n",
       "3    2020-04-01       EA2           0     73200.0          0.2970\n",
       "4    2020-04-01       EA2       73200    732000.0          0.1524\n",
       "...         ...       ...         ...         ...             ...\n",
       "1135 2024-10-01       WM2       73200    732000.0          0.4537\n",
       "1136 2024-10-01       WM2      732000         NaN          0.7534\n",
       "1137 2024-10-01       WM3           0     73200.0          0.7263\n",
       "1138 2024-10-01       WM3       73200    732000.0          0.6109\n",
       "1139 2024-10-01       WM3      732000         NaN          0.4928\n",
       "\n",
       "[1140 rows x 5 columns]"
      ]
     },
     "execution_count": 321,
     "metadata": {},
     "output_type": "execute_result"
    }
   ],
   "source": [
    "rate"
   ]
  },
  {
   "cell_type": "code",
   "execution_count": 331,
   "id": "8cb266da",
   "metadata": {},
   "outputs": [
    {
     "name": "stderr",
     "output_type": "stream",
     "text": [
      "/var/folders/yd/7fn380h1507crytk9ytqnc440000gn/T/ipykernel_68823/1575244424.py:1: SettingWithCopyWarning: \n",
      "A value is trying to be set on a copy of a slice from a DataFrame\n",
      "\n",
      "See the caveats in the documentation: https://pandas.pydata.org/pandas-docs/stable/user_guide/indexing.html#returning-a-view-versus-a-copy\n",
      "  rate[\"aq_max_kwh\"].loc[np.isnan(rate[\"aq_max_kwh\"])] = np.inf\n"
     ]
    }
   ],
   "source": []
  },
  {
   "cell_type": "code",
   "execution_count": 332,
   "id": "caf07988",
   "metadata": {},
   "outputs": [
    {
     "data": {
      "text/html": [
       "<div>\n",
       "<style scoped>\n",
       "    .dataframe tbody tr th:only-of-type {\n",
       "        vertical-align: middle;\n",
       "    }\n",
       "\n",
       "    .dataframe tbody tr th {\n",
       "        vertical-align: top;\n",
       "    }\n",
       "\n",
       "    .dataframe thead th {\n",
       "        text-align: right;\n",
       "    }\n",
       "</style>\n",
       "<table border=\"1\" class=\"dataframe\">\n",
       "  <thead>\n",
       "    <tr style=\"text-align: right;\">\n",
       "      <th></th>\n",
       "      <th>date</th>\n",
       "      <th>exit_zone</th>\n",
       "      <th>aq_min_kwh</th>\n",
       "      <th>aq_max_kwh</th>\n",
       "      <th>rate_p_per_kwh</th>\n",
       "    </tr>\n",
       "  </thead>\n",
       "  <tbody>\n",
       "    <tr>\n",
       "      <th>0</th>\n",
       "      <td>2020-04-01</td>\n",
       "      <td>EA1</td>\n",
       "      <td>0</td>\n",
       "      <td>73200.0</td>\n",
       "      <td>0.2652</td>\n",
       "    </tr>\n",
       "    <tr>\n",
       "      <th>1</th>\n",
       "      <td>2020-04-01</td>\n",
       "      <td>EA1</td>\n",
       "      <td>73200</td>\n",
       "      <td>732000.0</td>\n",
       "      <td>0.1980</td>\n",
       "    </tr>\n",
       "    <tr>\n",
       "      <th>2</th>\n",
       "      <td>2020-04-01</td>\n",
       "      <td>EA1</td>\n",
       "      <td>732000</td>\n",
       "      <td>inf</td>\n",
       "      <td>0.2875</td>\n",
       "    </tr>\n",
       "    <tr>\n",
       "      <th>3</th>\n",
       "      <td>2020-04-01</td>\n",
       "      <td>EA2</td>\n",
       "      <td>0</td>\n",
       "      <td>73200.0</td>\n",
       "      <td>0.2970</td>\n",
       "    </tr>\n",
       "    <tr>\n",
       "      <th>4</th>\n",
       "      <td>2020-04-01</td>\n",
       "      <td>EA2</td>\n",
       "      <td>73200</td>\n",
       "      <td>732000.0</td>\n",
       "      <td>0.1524</td>\n",
       "    </tr>\n",
       "    <tr>\n",
       "      <th>...</th>\n",
       "      <td>...</td>\n",
       "      <td>...</td>\n",
       "      <td>...</td>\n",
       "      <td>...</td>\n",
       "      <td>...</td>\n",
       "    </tr>\n",
       "    <tr>\n",
       "      <th>1135</th>\n",
       "      <td>2024-10-01</td>\n",
       "      <td>WM2</td>\n",
       "      <td>73200</td>\n",
       "      <td>732000.0</td>\n",
       "      <td>0.4537</td>\n",
       "    </tr>\n",
       "    <tr>\n",
       "      <th>1136</th>\n",
       "      <td>2024-10-01</td>\n",
       "      <td>WM2</td>\n",
       "      <td>732000</td>\n",
       "      <td>inf</td>\n",
       "      <td>0.7534</td>\n",
       "    </tr>\n",
       "    <tr>\n",
       "      <th>1137</th>\n",
       "      <td>2024-10-01</td>\n",
       "      <td>WM3</td>\n",
       "      <td>0</td>\n",
       "      <td>73200.0</td>\n",
       "      <td>0.7263</td>\n",
       "    </tr>\n",
       "    <tr>\n",
       "      <th>1138</th>\n",
       "      <td>2024-10-01</td>\n",
       "      <td>WM3</td>\n",
       "      <td>73200</td>\n",
       "      <td>732000.0</td>\n",
       "      <td>0.6109</td>\n",
       "    </tr>\n",
       "    <tr>\n",
       "      <th>1139</th>\n",
       "      <td>2024-10-01</td>\n",
       "      <td>WM3</td>\n",
       "      <td>732000</td>\n",
       "      <td>inf</td>\n",
       "      <td>0.4928</td>\n",
       "    </tr>\n",
       "  </tbody>\n",
       "</table>\n",
       "<p>1140 rows × 5 columns</p>\n",
       "</div>"
      ],
      "text/plain": [
       "           date exit_zone  aq_min_kwh  aq_max_kwh  rate_p_per_kwh\n",
       "0    2020-04-01       EA1           0     73200.0          0.2652\n",
       "1    2020-04-01       EA1       73200    732000.0          0.1980\n",
       "2    2020-04-01       EA1      732000         inf          0.2875\n",
       "3    2020-04-01       EA2           0     73200.0          0.2970\n",
       "4    2020-04-01       EA2       73200    732000.0          0.1524\n",
       "...         ...       ...         ...         ...             ...\n",
       "1135 2024-10-01       WM2       73200    732000.0          0.4537\n",
       "1136 2024-10-01       WM2      732000         inf          0.7534\n",
       "1137 2024-10-01       WM3           0     73200.0          0.7263\n",
       "1138 2024-10-01       WM3       73200    732000.0          0.6109\n",
       "1139 2024-10-01       WM3      732000         inf          0.4928\n",
       "\n",
       "[1140 rows x 5 columns]"
      ]
     },
     "execution_count": 332,
     "metadata": {},
     "output_type": "execute_result"
    }
   ],
   "source": [
    "rate"
   ]
  },
  {
   "cell_type": "code",
   "execution_count": 237,
   "id": "10eedc05",
   "metadata": {},
   "outputs": [],
   "source": []
  },
  {
   "cell_type": "code",
   "execution_count": 347,
   "id": "3087c6df",
   "metadata": {},
   "outputs": [],
   "source": [
    "def calculate_cost_energy(m_lt, ft):\n",
    "    \"\"\"\n",
    "    Calculate total consumption and the cost of meter in the forcast period\n",
    "\n",
    "    Parameters:\n",
    "    m_lt (pd.DataFrame): meter_list in the given dataset\n",
    "    ft (pd.DataFrame): forecast_table in the given dataset\n",
    "    Returns:\n",
    "    pd.DataFrame: table containing Total_consumption and cost of the given meter\n",
    "    \"\"\"\n",
    "    meter_energy = pd.DataFrame({\"Meter\":[], \n",
    "                            \"Total_Consumption\":[],\n",
    "                            \"Cost\":[]})\n",
    "    \n",
    "    k = -1\n",
    "    kwh_sum = []\n",
    "    cost_sum = []\n",
    "    \n",
    "    \n",
    "    ft['rates'] = 0\n",
    "    ft_gr = ft.groupby('meter_id')\n",
    "    # find the upper limit of max. days according to rate_table\n",
    "    ed = pd.DataFrame({0:['2021-04-01','2021-10-01']})\n",
    "    ed[0] = pd.to_datetime(ed[0])\n",
    "    days_lim = (ed[0][1] - ed[0][0]) / np.timedelta64(1, 'D')\n",
    "    \n",
    "    \n",
    "    for name, group in ft_gr:\n",
    "        k += 1\n",
    "        i = 0\n",
    "        exit_zone = m_lt['exit_zone'].iloc[k]\n",
    "        aq = m_lt['aq_kwh'].iloc[k]\n",
    "\n",
    "        indices = group.index\n",
    "\n",
    "        for ft_date in group['date']:\n",
    "\n",
    "            if rate['date'].iloc[-1]>=group['date'][indices[i]]:\n",
    "\n",
    "\n",
    "                cp = rate[(rate['exit_zone']==exit_zone)\n",
    "                          *(group['date'][indices[i]]>= rate['date'])\n",
    "                          *((group['date'][indices[i]] - rate['date'])/ np.timedelta64(1, 'D') < days_lim)].index.values\n",
    "\n",
    "                ac_index = [cp[j] for j in range(len(cp)) if rate['aq_min_kwh'][cp[j]] <= aq <= rate['aq_max_kwh'][cp[j]]]\n",
    "#                 print('\\n',ac_index)\n",
    "#                 print(cp, 'cp \\n')\n",
    "#                 print(group['date'][indices[i]], 'forcast_date\\n')\n",
    "                group['rates'].loc[indices[i]] = rate['rate_p_per_kwh'].iloc[ac_index[-1]]\n",
    "                i+=1\n",
    "\n",
    "\n",
    "\n",
    "            else:\n",
    "                break\n",
    "\n",
    "        kwh_sum.append(sum(group['kwh']))\n",
    "        cost_sum.append(sum(group[\"kwh\"]*group['rates']*0.01))\n",
    "\n",
    "    meter_energy[\"Meter\"] =  m_lt['meter_id']\n",
    "    meter_energy[\"Total_Consumption\"] = kwh_sum\n",
    "    meter_energy[\"Cost\"] = cost_sum\n",
    "\n",
    "    return meter_energy \n",
    "\n",
    "\n",
    "        \n",
    "   \n",
    "    "
   ]
  },
  {
   "cell_type": "code",
   "execution_count": null,
   "id": "a557dd80",
   "metadata": {},
   "outputs": [],
   "source": []
  },
  {
   "cell_type": "code",
   "execution_count": 354,
   "id": "79773d1f",
   "metadata": {},
   "outputs": [
    {
     "name": "stderr",
     "output_type": "stream",
     "text": [
      "/var/folders/yd/7fn380h1507crytk9ytqnc440000gn/T/ipykernel_68823/3518862690.py:49: SettingWithCopyWarning: \n",
      "A value is trying to be set on a copy of a slice from a DataFrame\n",
      "\n",
      "See the caveats in the documentation: https://pandas.pydata.org/pandas-docs/stable/user_guide/indexing.html#returning-a-view-versus-a-copy\n",
      "  group['rates'].loc[indices[i]] = rate['rate_p_per_kwh'].iloc[ac_index[-1]]\n"
     ]
    },
    {
     "name": "stdout",
     "output_type": "stream",
     "text": [
      "      Meter  Total_Consumption         Cost\n",
      "0  14676236            28978.0   100.152012\n",
      "1  34509937            78324.0   275.489119\n",
      "2  50264822           265667.0   731.244071\n",
      "3  88357331           484399.0  1433.160171\n"
     ]
    }
   ],
   "source": [
    "# Solution 1\n",
    "meter_energy = calculate_cost_energy(m_lt, ft)\n",
    "print(meter_energy)"
   ]
  },
  {
   "cell_type": "code",
   "execution_count": 265,
   "id": "e9079a09",
   "metadata": {
    "scrolled": true
   },
   "outputs": [
    {
     "name": "stdout",
     "output_type": "stream",
     "text": [
      "\n",
      "  ['EA1' 'EA2' 'EA3' 'EA4' 'EM1' 'EM2' 'EM3' 'EM4' 'LC' 'LO' 'LS' 'LT' 'LW'\n",
      " 'NE1' 'NE2' 'NE3' 'NO1' 'NO2' 'NT1' 'NT2' 'NT3' 'NW1' 'NW2' 'SC1' 'SC2'\n",
      " 'SC4' 'SE1' 'SE2' 'SO1' 'SO2' 'SW1' 'SW2' 'SW3' 'WA1' 'WA2' 'WM1' 'WM2'\n",
      " 'WM3']\n",
      "\n",
      "  38\n"
     ]
    }
   ],
   "source": [
    "zones = np.unique(rate['exit_zone'])\n",
    "print('\\n ', zones)\n",
    "print('\\n ', len(zones))\n"
   ]
  },
  {
   "cell_type": "code",
   "execution_count": 267,
   "id": "51143e88",
   "metadata": {},
   "outputs": [],
   "source": [
    "def random_meter_list(input_meters, total_zones):\n",
    "    new_meter_list = pd.DataFrame()\n",
    "    total_meter_cap = np.random.randint(20000, high=1000000,\n",
    "                               size=input_meters)\n",
    "    zone_indices = np.random.randint(0, high=total_zones,\n",
    "                               size=input_meters)\n",
    "    meter_names = np.random.randint(20000000,\n",
    "                               size=input_meters)\n",
    "    \n",
    "    new_meter_list['meter_id'] = meter_names\n",
    "    new_meter_list['aq_kwh'] = total_meter_cap\n",
    "    new_meter_list['exit_zone'] = zones[zone_indices]\n",
    "    return new_meter_list\n",
    "    "
   ]
  },
  {
   "cell_type": "code",
   "execution_count": 304,
   "id": "987f4126",
   "metadata": {
    "scrolled": true
   },
   "outputs": [
    {
     "name": "stdout",
     "output_type": "stream",
     "text": [
      "\n",
      "    meter_id  aq_kwh exit_zone\n",
      "0   2471705  358517       EA2\n",
      "1   2865611  701648       WM3\n"
     ]
    }
   ],
   "source": [
    "# Solution 2\n",
    "total_zones = len(zones)\n",
    "input_meters = 2\n",
    "new_meter_list = random_meter_list(input_meters, total_zones)\n",
    "print('\\n',new_meter_list)\n",
    "\n",
    "\n",
    "\n"
   ]
  },
  {
   "cell_type": "code",
   "execution_count": 309,
   "id": "c27daeb7",
   "metadata": {},
   "outputs": [],
   "source": [
    "def random_forcast_table(meter_ids, start_date, end_date):\n",
    "    \n",
    "    new_forcast_table = pd.DataFrame()\n",
    "    dates = pd.date_range(start=start_date, end=end_date)\n",
    "    all_meter = np.array([])\n",
    "    all_date = []\n",
    "    all_kwh = np.array([])\n",
    "    for i in range(len(meter_ids)):\n",
    "        all_meter = np.append(all_meter, np.ones(len(dates))*meter_ids[i])\n",
    "        all_date.extend(dates)\n",
    "        all_kwh = np.append(all_kwh, np.random.normal(50, 3, len(dates)))\n",
    "        \n",
    "    new_forcast_table['meter_id'] = all_meter.astype(np.int32)\n",
    "    new_forcast_table['date'] = all_date\n",
    "    new_forcast_table['kwh'] = all_kwh\n",
    "    return new_forcast_table "
   ]
  },
  {
   "cell_type": "code",
   "execution_count": 310,
   "id": "685342cd",
   "metadata": {},
   "outputs": [
    {
     "name": "stdout",
     "output_type": "stream",
     "text": [
      "\n",
      " DatetimeIndex(['2020-01-01', '2020-01-02', '2020-01-03', '2020-01-04',\n",
      "               '2020-01-05', '2020-01-06', '2020-01-07', '2020-01-08',\n",
      "               '2020-01-09', '2020-01-10', '2020-01-11', '2020-01-12',\n",
      "               '2020-01-13', '2020-01-14', '2020-01-15', '2020-01-16',\n",
      "               '2020-01-17', '2020-01-18', '2020-01-19', '2020-01-20',\n",
      "               '2020-01-21', '2020-01-22', '2020-01-23', '2020-01-24'],\n",
      "              dtype='datetime64[ns]', freq='D')\n",
      "\n",
      "     meter_id       date        kwh\n",
      "0    2471705 2020-01-01  45.705475\n",
      "1    2471705 2020-01-02  49.403064\n",
      "2    2471705 2020-01-03  46.183982\n",
      "3    2471705 2020-01-04  49.952116\n",
      "4    2471705 2020-01-05  53.781508\n",
      "5    2471705 2020-01-06  54.130648\n",
      "6    2471705 2020-01-07  52.259357\n",
      "7    2471705 2020-01-08  48.236786\n",
      "8    2471705 2020-01-09  50.036010\n",
      "9    2471705 2020-01-10  53.442905\n",
      "10   2471705 2020-01-11  53.234675\n",
      "11   2471705 2020-01-12  52.830881\n",
      "12   2471705 2020-01-13  49.610549\n",
      "13   2471705 2020-01-14  53.843694\n",
      "14   2471705 2020-01-15  47.990026\n",
      "15   2471705 2020-01-16  51.827998\n",
      "16   2471705 2020-01-17  45.963728\n",
      "17   2471705 2020-01-18  51.021814\n",
      "18   2471705 2020-01-19  53.928879\n",
      "19   2471705 2020-01-20  44.736221\n",
      "20   2471705 2020-01-21  49.259826\n",
      "21   2471705 2020-01-22  48.069734\n",
      "22   2471705 2020-01-23  53.545594\n",
      "23   2471705 2020-01-24  49.735656\n",
      "24   2865611 2020-01-01  52.928103\n",
      "25   2865611 2020-01-02  49.388135\n",
      "26   2865611 2020-01-03  52.149533\n",
      "27   2865611 2020-01-04  50.947602\n",
      "28   2865611 2020-01-05  48.799549\n",
      "29   2865611 2020-01-06  43.197676\n",
      "30   2865611 2020-01-07  48.878676\n",
      "31   2865611 2020-01-08  47.474880\n",
      "32   2865611 2020-01-09  49.620600\n",
      "33   2865611 2020-01-10  50.613498\n",
      "34   2865611 2020-01-11  54.400822\n",
      "35   2865611 2020-01-12  47.351801\n",
      "36   2865611 2020-01-13  49.567345\n",
      "37   2865611 2020-01-14  46.793640\n",
      "38   2865611 2020-01-15  50.615549\n",
      "39   2865611 2020-01-16  50.525576\n",
      "40   2865611 2020-01-17  48.959954\n",
      "41   2865611 2020-01-18  47.737316\n",
      "42   2865611 2020-01-19  47.908347\n",
      "43   2865611 2020-01-20  47.332578\n",
      "44   2865611 2020-01-21  53.507475\n",
      "45   2865611 2020-01-22  54.237168\n",
      "46   2865611 2020-01-23  51.801186\n",
      "47   2865611 2020-01-24  47.670098\n"
     ]
    }
   ],
   "source": [
    "# Solution 3\n",
    "meter_ids = new_meter_list['meter_id']\n",
    "start_date = '1/1/2020'\n",
    "end_date = '1/24/2020'\n",
    "# start date and end date of all meters are same\n",
    "print('\\n', dates)\n",
    "new_forcast_table = random_forcast_table(meter_ids, start_date, end_date)\n",
    "print('\\n', new_forcast_table)"
   ]
  },
  {
   "cell_type": "code",
   "execution_count": 353,
   "id": "9cfbf1d4",
   "metadata": {},
   "outputs": [
    {
     "name": "stdout",
     "output_type": "stream",
     "text": [
      "   meter_id  aq_kwh exit_zone\n",
      "0   3672824  842935       NT3\n",
      "1   6036459  896415       SC2 \n",
      "\n"
     ]
    },
    {
     "name": "stderr",
     "output_type": "stream",
     "text": [
      "/var/folders/yd/7fn380h1507crytk9ytqnc440000gn/T/ipykernel_68823/3518862690.py:49: SettingWithCopyWarning: \n",
      "A value is trying to be set on a copy of a slice from a DataFrame\n",
      "\n",
      "See the caveats in the documentation: https://pandas.pydata.org/pandas-docs/stable/user_guide/indexing.html#returning-a-view-versus-a-copy\n",
      "  group['rates'].loc[indices[i]] = rate['rate_p_per_kwh'].iloc[ac_index[-1]]\n"
     ]
    },
    {
     "name": "stdout",
     "output_type": "stream",
     "text": [
      "     Meter  Total_Consumption        Cost\n",
      "0  3672824       81750.618777  344.303558\n",
      "1  6036459       81792.861395  343.129235\n"
     ]
    }
   ],
   "source": [
    "# 2\n",
    "total_zones = len(zones)\n",
    "input_meters = 2\n",
    "new_meter_list = random_meter_list(input_meters, total_zones)\n",
    "print(new_meter_list,'\\n')\n",
    "\n",
    "# 3\n",
    "meter_ids = new_meter_list['meter_id']\n",
    "start_date = '5/5/2020'\n",
    "end_date = '10/24/2024'\n",
    "\n",
    "try:\n",
    "    new_forcast_table = random_forcast_table(meter_ids, start_date, end_date)\n",
    "    # print(new_forcast_table)\n",
    "    \n",
    "    # 4\n",
    "    new_meter_energy = calculate_cost_energy(new_meter_list, new_forcast_table)\n",
    "    print(new_meter_energy)\n",
    "except:\n",
    "    if (pd.to_datetime(start_date) < rate['date'].iloc[0]) | (pd.to_datetime(end_date) > rate['date'].iloc[-1]):\n",
    "        print(\"Change the input the dates for calculating the transportation costs\")\n",
    "        \n",
    "# start date and end date of all meters are same\n",
    "# end date should be atleast equal latest date in rate_table to calculate rate\n",
    "# start date should be more than the minimum in the rate table\n",
    "\n",
    "\n",
    "\n",
    "\n"
   ]
  },
  {
   "cell_type": "code",
   "execution_count": 349,
   "id": "7a7e7afb",
   "metadata": {},
   "outputs": [
    {
     "name": "stdout",
     "output_type": "stream",
     "text": [
      "2020-05-05 00:00:00\n"
     ]
    }
   ],
   "source": []
  },
  {
   "cell_type": "code",
   "execution_count": null,
   "id": "b45c932f",
   "metadata": {},
   "outputs": [],
   "source": []
  }
 ],
 "metadata": {
  "kernelspec": {
   "display_name": "Python 3 (ipykernel)",
   "language": "python",
   "name": "python3"
  },
  "language_info": {
   "codemirror_mode": {
    "name": "ipython",
    "version": 3
   },
   "file_extension": ".py",
   "mimetype": "text/x-python",
   "name": "python",
   "nbconvert_exporter": "python",
   "pygments_lexer": "ipython3",
   "version": "3.9.12"
  }
 },
 "nbformat": 4,
 "nbformat_minor": 5
}
