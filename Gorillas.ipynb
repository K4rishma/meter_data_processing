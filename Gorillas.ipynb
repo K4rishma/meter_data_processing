{
 "cells": [
  {
   "cell_type": "code",
   "execution_count": 517,
   "id": "46fb19f2",
   "metadata": {
    "scrolled": false
   },
   "outputs": [],
   "source": [
    "import pandas as pd\n",
    "import numpy as np\n",
    "import warnings\n",
    "import time\n",
    "import matplotlib.pyplot as plt\n",
    "\n",
    "# one file read three times, can be optimized\n",
    "m_lt = pd.read_excel('gorilla_test_data.xlsx', sheet_name='meter_list')\n",
    "ft = pd.read_excel('gorilla_test_data.xlsx', sheet_name='forecast_table')\n",
    "rate = pd.read_excel('gorilla_test_data.xlsx', sheet_name='rate_table')\n",
    "\n",
    "# filling missing values in the table\n",
    "rate.loc[np.isnan(rate[\"aq_max_kwh\"]), 'aq_max_kwh'] = np.inf\n"
   ]
  },
  {
   "cell_type": "markdown",
   "id": "194ecca8",
   "metadata": {},
   "source": [
    "# Problem 1\n",
    "First function created with for loops to understand the provided dataset. Later vectorized operations were created to solve the problem."
   ]
  },
  {
   "cell_type": "code",
   "execution_count": 519,
   "id": "dd3a46f8",
   "metadata": {},
   "outputs": [],
   "source": [
    "# def calculate_cost_energy(m_lt, ft):\n",
    "#     \"\"\"\n",
    "#     Calculate total consumption and the cost of meter in the forcast period\n",
    "\n",
    "#     Parameters:\n",
    "#     m_lt (pd.DataFrame): meter_list in the given dataset\n",
    "#     ft (pd.DataFrame): forecast_table in the given dataset\n",
    "#     Returns:\n",
    "#     pd.DataFrame: table containing Total_consumption and cost of the given meter\n",
    "#     \"\"\"\n",
    "#     meter_energy = pd.DataFrame({\"Meter\":[], \n",
    "#                             \"Total_Consumption\":[],\n",
    "#                             \"Cost\":[]})\n",
    "    \n",
    "#     k = -1\n",
    "#     kwh_sum = []\n",
    "#     cost_sum = []\n",
    "    \n",
    "    \n",
    "#     ft['rates'] = 0\n",
    "#     ft_gr = ft.groupby('meter_id')\n",
    "#     # find the upper limit of max. days according to rate_table\n",
    "#     ed = pd.DataFrame({0:['2021-04-01','2021-10-01']})\n",
    "#     ed[0] = pd.to_datetime(ed[0])\n",
    "#     days_lim = (ed[0][1] - ed[0][0]) / np.timedelta64(1, 'D')\n",
    "    \n",
    "    \n",
    "#     for name, group in ft_gr:\n",
    "#         k += 1\n",
    "#         i = 0\n",
    "#         exit_zone = m_lt['exit_zone'].iloc[k]\n",
    "#         aq = m_lt['aq_kwh'].iloc[k]\n",
    "\n",
    "#         indices = group.index\n",
    "#         print('\\n',group)\n",
    "\n",
    "#         for ft_date in group['date']:\n",
    "\n",
    "#             if rate['date'].iloc[-1]>=group['date'][indices[i]]:\n",
    "\n",
    "\n",
    "#                 cp = rate[(rate['exit_zone']==exit_zone)\n",
    "#                           *(group['date'][indices[i]]>= rate['date'])\n",
    "#                           *((group['date'][indices[i]] - rate['date'])/ np.timedelta64(1, 'D') < days_lim)].index.values\n",
    "\n",
    "#                 ac_index = [cp[j] for j in range(len(cp)) if rate['aq_min_kwh'][cp[j]] <= aq <= rate['aq_max_kwh'][cp[j]]]\n",
    "# #                 print('\\n',ac_index)\n",
    "# #                 print(cp, 'cp \\n')\n",
    "# #                 print(group['date'][indices[i]], 'forcast_date\\n')\n",
    "# #                 group.loc[indices[i], 'rates'] = rate['rate_p_per_kwh'].iloc[ac_index[-1]]\n",
    "#                 group['rates'].loc[indices[i]] = rate['rate_p_per_kwh'].iloc[ac_index[-1]]\n",
    "    \n",
    "#                 i+=1\n",
    "\n",
    "\n",
    "\n",
    "#             else:\n",
    "#                 break\n",
    "\n",
    "#         kwh_sum.append(sum(group['kwh']))\n",
    "#         cost_sum.append(sum(group[\"kwh\"]*group['rates']*0.01))\n",
    "\n",
    "#     meter_energy[\"Meter\"] =  m_lt['meter_id']\n",
    "#     meter_energy[\"Total_Consumption\"] = kwh_sum\n",
    "#     meter_energy[\"Cost\"] = cost_sum\n",
    "\n",
    "#     return meter_energy \n",
    "\n",
    "\n",
    "\n",
    "        \n",
    "   \n",
    "    "
   ]
  },
  {
   "cell_type": "markdown",
   "id": "065e0e06",
   "metadata": {},
   "source": [
    "## Assumptions \n",
    "### Valid for the whole assesment\n",
    "    1. Exit zones are assumed to be in same order for each date in the rate_table.\n",
    "    2. Number of energy bands with  min and max energy values are assumed to be uniform across meters.\n",
    "    3. Time duration of forcast and start_date in rate_table are assumed to be consistent across meters.\n"
   ]
  },
  {
   "cell_type": "code",
   "execution_count": 520,
   "id": "6836908e",
   "metadata": {},
   "outputs": [],
   "source": [
    "def calculate_cost_energy_optimized(m_lt, ft):\n",
    "    \"\"\"\n",
    "    Calculate total consumption and the cost of meter in the forcast period\n",
    "\n",
    "    Parameters:\n",
    "    m_lt (pd.DataFrame): meter_list in the given dataset\n",
    "    ft (pd.DataFrame): forecast_table in the given dataset\n",
    "    Returns:\n",
    "    pd.DataFrame: table containing Total_consumption and cost for the given meters\n",
    "    \"\"\"\n",
    "    meter_energy = pd.DataFrame({\"Meter\":[], \n",
    "                            \"Total_Consumption\":[],\n",
    "                            \"Cost\":[]})\n",
    "\n",
    "\n",
    "    kwh_sum = []\n",
    "    cost_sum = []\n",
    "\n",
    "    nb_days = (ft['date'].iloc[-1] - ft['date'].iloc[0])/np.timedelta64(1, 'D') + 1\n",
    "    zones = np.unique(rate['exit_zone'])\n",
    "    size_zones = len(zones)\n",
    "    nb_bands = 3 # HARDCODED \n",
    "    nb_meters = len(m_lt)\n",
    "\n",
    "\n",
    "    # selecting energy bands in rate_table for each meter and inserting in meter list\n",
    "    meter_bands = pd.DataFrame({\"minp\":rate[\"aq_min_kwh\"].iloc[0:nb_bands].values,\n",
    "                          \"maxp\":rate[\"aq_max_kwh\"].iloc[0:nb_bands].values})\n",
    "    s1=meter_bands[\"minp\"].values\n",
    "    s2=meter_bands[\"maxp\"].values\n",
    "    s=m_lt.aq_kwh.values[:,None]\n",
    "    result = np.dot((s>=s1)&(s<s2),np.arange(0,nb_bands, dtype = int))\n",
    "    m_lt[\"range\"] = result\n",
    "\n",
    "\n",
    "    \n",
    "    for i in range(len(m_lt)):\n",
    "        df_1 = ft.loc[i*nb_days:(i+1)*nb_days]\n",
    "        exit_zone = m_lt['exit_zone'].iloc[i]\n",
    "        start1_index = np.argwhere(zones == exit_zone)\n",
    "        start2_index = m_lt['range'].loc[i]\n",
    "        start_index = start1_index * nb_bands + start2_index\n",
    "        start_indices = np.arange(start_index, len(rate), size_zones*nb_bands, dtype = int)\n",
    "        df_LookupTable = pd.DataFrame({'Start': rate['date'].loc[start_indices[:-1]].values,\n",
    "                                       'Stop': rate['date'].loc[start_indices[1:]].values,\n",
    "                                       'Rate': rate['rate_p_per_kwh'].loc[start_indices[:-1]].values })\n",
    "\n",
    "        result = np.dot(\n",
    "            (df_1['date'].values[:, None] >= df_LookupTable['Start'].values) &\n",
    "            (df_1['date'].values[:, None] <= df_LookupTable['Stop'].values),\n",
    "            df_LookupTable['Rate'])\n",
    "\n",
    "        kwh_sum.append(sum(df_1['kwh'].values))\n",
    "        cost_sum.append(0.01*np.dot(result,df_1['kwh'].values))\n",
    "\n",
    "\n",
    "    meter_energy[\"Meter\"] =  m_lt['meter_id']\n",
    "    meter_energy[\"Total_Consumption\"] = kwh_sum\n",
    "    meter_energy[\"Cost\"] = cost_sum\n",
    "\n",
    "    meter_energy = meter_energy.round(2)\n",
    "    return meter_energy\n",
    "\n",
    "\n",
    "\n",
    "\n",
    "\n",
    "\n"
   ]
  },
  {
   "cell_type": "markdown",
   "id": "b7ab42e6",
   "metadata": {},
   "source": [
    "## Solution 1\n"
   ]
  },
  {
   "cell_type": "code",
   "execution_count": 521,
   "id": "b5c7889b",
   "metadata": {},
   "outputs": [
    {
     "name": "stdout",
     "output_type": "stream",
     "text": [
      "meter_energy\n"
     ]
    }
   ],
   "source": [
    "# meter_energy = calculate_cost_energy(m_lt, ft)\n",
    "# print(meter_energy)\n",
    "meter_energy = calculate_cost_energy_optimized(m_lt, ft)\n",
    "print('meter_energy')\n"
   ]
  },
  {
   "cell_type": "markdown",
   "id": "671c2501",
   "metadata": {},
   "source": [
    "# Problem 2"
   ]
  },
  {
   "cell_type": "code",
   "execution_count": null,
   "id": "98c02511",
   "metadata": {
    "scrolled": true
   },
   "outputs": [],
   "source": [
    "\n",
    "\n"
   ]
  },
  {
   "cell_type": "code",
   "execution_count": 522,
   "id": "0fab7451",
   "metadata": {},
   "outputs": [],
   "source": [
    "def random_meter_list(input_meters, total_zones):\n",
    "    \"\"\"\n",
    "    Generates random meter list with columns in the given meter_list.xlsx\n",
    "\n",
    "    Parameters:\n",
    "    input_meters (int)        : number of meters\n",
    "    total_zones (numpy.array) : array consisting unique value of zones mentioned in rate_table\n",
    "    Returns:\n",
    "    pd.DataFrame: table containing randomized meter list with total annual quantity and exit zone\n",
    "    \"\"\"\n",
    "    new_meter_list = pd.DataFrame()\n",
    "    total_meter_cap = np.random.randint(20000, high=1000000,\n",
    "                               size=input_meters)\n",
    "    zone_indices = np.random.randint(0, high=total_zones,\n",
    "                               size=input_meters)\n",
    "    meter_names = np.random.randint(20000000,\n",
    "                               size=input_meters)\n",
    "    \n",
    "    new_meter_list['meter_id'] = meter_names\n",
    "    new_meter_list['aq_kwh'] = total_meter_cap\n",
    "    new_meter_list['exit_zone'] = zones[zone_indices]\n",
    "    return new_meter_list\n",
    "    "
   ]
  },
  {
   "cell_type": "markdown",
   "id": "5f3a7b94",
   "metadata": {},
   "source": [
    "## Solution 2"
   ]
  },
  {
   "cell_type": "code",
   "execution_count": 523,
   "id": "cbefa22b",
   "metadata": {
    "scrolled": true
   },
   "outputs": [
    {
     "name": "stdout",
     "output_type": "stream",
     "text": [
      "\n",
      "    meter_id  aq_kwh exit_zone\n",
      "0   5225443  237980       SO2\n",
      "1  12482703  682319       NT2\n"
     ]
    }
   ],
   "source": [
    "zones = np.unique(rate['exit_zone'])\n",
    "total_zones = len(zones)\n",
    "input_meters = 2\n",
    "new_meter_list = random_meter_list(input_meters, total_zones)\n",
    "print('\\n',new_meter_list)\n",
    "\n",
    "\n",
    "\n"
   ]
  },
  {
   "cell_type": "markdown",
   "id": "832c3308",
   "metadata": {},
   "source": [
    "# Problem 3"
   ]
  },
  {
   "cell_type": "code",
   "execution_count": 524,
   "id": "52043fd4",
   "metadata": {},
   "outputs": [],
   "source": [
    "def random_forcast_table(meter_ids, start_date, end_date):\n",
    "    \"\"\"\n",
    "    Generates random forcast table for all the meters listed in meter_ids for the forcast period given by \n",
    "    start and end dates. The start and end dates are uniform for all meters.\n",
    "\n",
    "    Parameters:\n",
    "    meter_ids     (numpy array): array containing unique meter ids\n",
    "    start_date         (string): start date of the forcast period\n",
    "    end_date           (string): end date of the forcast period\n",
    "    Returns:\n",
    "    pd.DataFrame: table containing daily kwh usage per day in forcast table for the given meters\n",
    "    \"\"\"\n",
    "    \n",
    "    new_forcast_table = pd.DataFrame()\n",
    "    dates = pd.date_range(start=start_date, end=end_date)\n",
    "    all_meter = np.array([])\n",
    "    all_date = []\n",
    "    all_kwh = np.array([])\n",
    "    for i in range(len(meter_ids)):\n",
    "        all_meter = np.append(all_meter, np.ones(len(dates))*meter_ids[i])\n",
    "        all_date.extend(dates)\n",
    "        all_kwh = np.append(all_kwh, np.random.normal(50, 3, len(dates)))\n",
    "        \n",
    "    new_forcast_table['meter_id'] = all_meter.astype(np.int32)\n",
    "    new_forcast_table['date'] = all_date\n",
    "    new_forcast_table['kwh'] = all_kwh\n",
    "    return new_forcast_table "
   ]
  },
  {
   "cell_type": "markdown",
   "id": "27dd55ea",
   "metadata": {},
   "source": [
    "## Solution 3"
   ]
  },
  {
   "cell_type": "code",
   "execution_count": 525,
   "id": "2728265b",
   "metadata": {},
   "outputs": [
    {
     "name": "stdout",
     "output_type": "stream",
     "text": [
      "    meter_id       date        kwh\n",
      "0    5225443 2020-01-01  47.326120\n",
      "1    5225443 2020-01-02  48.197520\n",
      "2    5225443 2020-01-03  44.261144\n",
      "3    5225443 2020-01-04  46.521713\n",
      "4    5225443 2020-01-05  45.969252\n",
      "5    5225443 2020-01-06  45.176359\n",
      "6    5225443 2020-01-07  45.808969\n",
      "7    5225443 2020-01-08  53.370500\n",
      "8    5225443 2020-01-09  48.617606\n",
      "9    5225443 2020-01-10  53.148807\n",
      "10   5225443 2020-01-11  55.025773\n",
      "11   5225443 2020-01-12  55.430868\n",
      "12   5225443 2020-01-13  51.659106\n",
      "13   5225443 2020-01-14  45.182972\n",
      "14   5225443 2020-01-15  48.163414\n",
      "15   5225443 2020-01-16  52.069944\n",
      "16   5225443 2020-01-17  54.071663\n",
      "17   5225443 2020-01-18  46.834970\n",
      "18   5225443 2020-01-19  52.175755\n",
      "19   5225443 2020-01-20  49.095929\n",
      "20   5225443 2020-01-21  45.633190\n",
      "21   5225443 2020-01-22  49.605174\n",
      "22   5225443 2020-01-23  50.157721\n",
      "23   5225443 2020-01-24  46.290994\n",
      "24  12482703 2020-01-01  52.740734\n",
      "25  12482703 2020-01-02  48.073363\n",
      "26  12482703 2020-01-03  48.814506\n",
      "27  12482703 2020-01-04  40.570318\n",
      "28  12482703 2020-01-05  47.569079\n",
      "29  12482703 2020-01-06  48.572972\n",
      "30  12482703 2020-01-07  43.921131\n",
      "31  12482703 2020-01-08  55.273577\n",
      "32  12482703 2020-01-09  48.955721\n",
      "33  12482703 2020-01-10  50.253359\n",
      "34  12482703 2020-01-11  53.954004\n",
      "35  12482703 2020-01-12  47.881195\n",
      "36  12482703 2020-01-13  50.831442\n",
      "37  12482703 2020-01-14  52.960446\n",
      "38  12482703 2020-01-15  50.463046\n",
      "39  12482703 2020-01-16  50.222953\n",
      "40  12482703 2020-01-17  53.797746\n",
      "41  12482703 2020-01-18  52.120400\n",
      "42  12482703 2020-01-19  52.322367\n",
      "43  12482703 2020-01-20  48.454714\n",
      "44  12482703 2020-01-21  53.406283\n",
      "45  12482703 2020-01-22  43.485168\n",
      "46  12482703 2020-01-23  50.338290\n",
      "47  12482703 2020-01-24  42.192303\n"
     ]
    }
   ],
   "source": [
    "# start date and forcast duration are unoform across all meters (Assumptions part 3)\n",
    "meter_ids = new_meter_list['meter_id']\n",
    "start_date = '1/1/2020'\n",
    "end_date = '1/24/2020'\n",
    "\n",
    "new_forcast_table = random_forcast_table(meter_ids, start_date, end_date)\n",
    "print(new_forcast_table)"
   ]
  },
  {
   "cell_type": "markdown",
   "id": "4f417dfb",
   "metadata": {},
   "source": [
    "## Solution 4 , part a\n",
    "Calling all the functions written previously to generate random datasets. The meter numbers, starting date and end date are provided as input values that can be changed by the user."
   ]
  },
  {
   "cell_type": "code",
   "execution_count": 526,
   "id": "885dc2ca",
   "metadata": {},
   "outputs": [
    {
     "name": "stdout",
     "output_type": "stream",
     "text": [
      "   meter_id  aq_kwh exit_zone\n",
      "0  11337851   23748       WM3\n",
      "1   4184459  844568       WM1 \n",
      "\n",
      "      Meter  Total_Consumption    Cost\n",
      "0  11337851           81875.18  351.74\n",
      "1   4184459           81815.74  312.83\n"
     ]
    }
   ],
   "source": [
    "# The functions are based on assumptions stated under Problem 1\n",
    "# Exception handle used to check the validity of input dates for forcast with the provided rate table\n",
    "## 1. end date should be atleast equal latest date in rate_table to calculate transportation cost\n",
    "## 2. start date should be more than the minimum in the rate table\n",
    "\n",
    "# Sol 2\n",
    "total_zones = len(zones)\n",
    "input_meters = 2\n",
    "new_meter_list = random_meter_list(input_meters, total_zones)\n",
    "print(new_meter_list,'\\n')\n",
    "\n",
    "# Sol 3\n",
    "meter_ids = new_meter_list['meter_id']\n",
    "start_date = '5/5/2020'\n",
    "end_date = '10/24/2024'\n",
    "\n",
    "try:\n",
    "    new_forcast_table = random_forcast_table(meter_ids, start_date, end_date)\n",
    "    new_meter_energy = calculate_cost_energy_optimized(new_meter_list, new_forcast_table)\n",
    "    print(new_meter_energy)\n",
    "except:\n",
    "    if (pd.to_datetime(start_date) < rate['date'].iloc[0]) | (pd.to_datetime(end_date) > rate['date'].iloc[-1]):\n",
    "        print(\"Invalid dates\")\n",
    "        print(\"Change the input the dates for calculating the transportation costs\")\n",
    "        \n",
    "\n",
    "\n",
    "\n",
    "\n",
    "\n"
   ]
  },
  {
   "cell_type": "markdown",
   "id": "eb16dc1d",
   "metadata": {},
   "source": [
    "## Solution 4, part b"
   ]
  },
  {
   "cell_type": "code",
   "execution_count": 529,
   "id": "94a317ad",
   "metadata": {},
   "outputs": [],
   "source": [
    "# The functions are based on assumptions stated under Problem 1\n",
    "# Exception handle used to check the validity of input dates for forcast with the provided rate table\n",
    "## 1. end date should be atleast equal latest date in rate_table to calculate transportation cost\n",
    "## 2. start date should be more than the minimum in the rate table\n",
    "# print commands between time mapping are removed to get better time estimates\n",
    "\n",
    "# Sol: 2\n",
    "\n",
    "\n",
    "total_zones = len(zones)\n",
    "input_meters = np.array([10, 20, 30, 40, 50]) # number of meters\n",
    "start_date = '5/5/2020'\n",
    "intervals = [29, 89, 179, 359, 2*359] # number of days\n",
    "end_date = pd.to_datetime(intervals, unit='D', origin = pd.to_datetime(start_date))\n",
    "total_meters = len(input_meters)\n",
    "total_intervals = len(intervals)\n",
    "\n",
    "# store time spent for each scenario \n",
    "time_all = np.empty([total_meters,total_intervals])\n",
    "start = 0\n",
    "end = 0\n",
    "for m in range(len(input_meters)):\n",
    "    start = time.time()\n",
    "    new_meter_list = random_meter_list(input_meters[m], total_zones)\n",
    "\n",
    "    # Sol 3\n",
    "    meter_ids = new_meter_list['meter_id']\n",
    "    for date_itr in range(len(end_date)):\n",
    "        try:\n",
    "            new_forcast_table = random_forcast_table(meter_ids, start_date, end_date[date_itr])\n",
    "            new_meter_energy = calculate_cost_energy_optimized(new_meter_list, new_forcast_table)\n",
    "            \n",
    "            time_all[m,date_itr] = time.time() - start\n",
    "        except:\n",
    "            if (pd.to_datetime(start_date) < rate['date'].iloc[0]) | (pd.to_datetime(end_date[date_itr]) > rate['date'].iloc[-1]):\n",
    "                print(\"Change the input the dates for calculating the transportation costs \\n\")\n",
    "\n",
    "\n"
   ]
  },
  {
   "cell_type": "markdown",
   "id": "205ca8ce",
   "metadata": {},
   "source": [
    "### Plotting Computation time curve with increasing forcast duration and meters"
   ]
  },
  {
   "cell_type": "code",
   "execution_count": 528,
   "id": "f7c1c698",
   "metadata": {},
   "outputs": [
    {
     "data": {
      "image/png": "[encoded data removed]",
      "text/plain": [
       "<Figure size 432x288 with 1 Axes>"
      ]
     },
     "metadata": {
      "needs_background": "light"
     },
     "output_type": "display_data"
    }
   ],
   "source": [
    "plt.figure()\n",
    "for m in range(len(input_meters)):\n",
    "    \n",
    "    plt.plot(intervals, time_all[m,:])\n",
    "    plt.xlabel('time_intervals (days)')\n",
    "    plt.ylabel('time (s)')\n",
    "    \n",
    "plt.legend(input_meters)\n",
    "plt.title('Computation time with changing meter numbers ')\n",
    "plt.show()\n"
   ]
  },
  {
   "cell_type": "markdown",
   "id": "71af7fa5",
   "metadata": {},
   "source": [
    "# Solution 5"
   ]
  },
  {
   "cell_type": "markdown",
   "id": "b4c642d6",
   "metadata": {},
   "source": [
    "## Assumptions\n",
    "1. Exit zones are assumed to be in same order for each date in the rate_table.\n",
    "2. Number of energy bands with  min and max energy values are assumed to be uniform across meters.\n",
    "3. Time duration of forcast and start_date in rate_table are assumed to be consistent across meters.\n",
    "    \n",
    "### Reading excel files\n",
    "1. Excel files is read three times for each table. For a sizable dataset it can be read at once.\n",
    "2. For large datasets with high forcast duration and number of meters, reading data can be optimized using python libraries\n",
    "    a. Large datasets can be read from cloud. Divinding larges datasets into small chunks increase the data transfer and saves the loaded transfer incase of network interruption. For e.g. First step of sorting the data by exit zone can be done on server and afterwards importing the small files from the server. \n",
    "\n",
    "\n",
    "### Computation time\n",
    "1. The computation graph can be improved by providing average time values over many iterations. This ensures cancelling noise during processing time."
   ]
  }
 ],
 "metadata": {
  "kernelspec": {
   "display_name": "Python 3 (ipykernel)",
   "language": "python",
   "name": "python3"
  },
  "language_info": {
   "codemirror_mode": {
    "name": "ipython",
    "version": 3
   },
   "file_extension": ".py",
   "mimetype": "text/x-python",
   "name": "python",
   "nbconvert_exporter": "python",
   "pygments_lexer": "ipython3",
   "version": "3.9.12"
  }
 },
 "nbformat": 4,
 "nbformat_minor": 5
}
